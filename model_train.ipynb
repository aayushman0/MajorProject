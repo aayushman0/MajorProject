{
 "cells": [
  {
   "cell_type": "code",
   "execution_count": 1,
   "metadata": {},
   "outputs": [],
   "source": [
    "import os\n",
    "import numpy as np\n",
    "\n",
    "from tensorflow.keras.layers import experimental\n",
    "from keras.models import Sequential, Input\n",
    "from keras.layers import *\n",
    "from tensorflow.keras.utils import to_categorical\n",
    "from tensorflow.keras.preprocessing.image import load_img\n",
    "import matplotlib.pyplot as plt"
   ]
  },
  {
   "cell_type": "code",
   "execution_count": 2,
   "metadata": {},
   "outputs": [],
   "source": [
    "images = [[],[]]\n",
    "labels = [[],[]]\n",
    "i = 0\n",
    "for folder_name in ['train', 'valid']:\n",
    "    folder_path = os.path.join('dataset', folder_name)\n",
    "    for dataset_name in os.listdir(folder_path):\n",
    "        dataset_path = os.path.join(folder_path, dataset_name)\n",
    "        for file_name in os.listdir(dataset_path):\n",
    "            file_path = os.path.join(dataset_path, file_name)\n",
    "            img = load_img(file_path, color_mode='grayscale')\n",
    "            images[i].append(np.array(img))\n",
    "            labels[i].append(int(dataset_name))\n",
    "    \n",
    "    i += 1\n",
    "    \n",
    "train_images = np.array(images[0])\n",
    "train_labels = np.array(labels[0])\n",
    "validation_images = np.array(images[1])\n",
    "validation_labels = np.array(labels[1])\n",
    "\n"
   ]
  },
  {
   "cell_type": "code",
   "execution_count": 3,
   "metadata": {},
   "outputs": [
    {
     "name": "stdout",
     "output_type": "stream",
     "text": [
      "(5400, 50, 50)\n",
      "5\n"
     ]
    },
    {
     "data": {
      "image/png": "[encoded data removed]",
      "text/plain": [
       "<Figure size 288x288 with 1 Axes>"
      ]
     },
     "metadata": {
      "needs_background": "light"
     },
     "output_type": "display_data"
    },
    {
     "name": "stdout",
     "output_type": "stream",
     "text": [
      "(1800, 50, 50)\n",
      "3\n"
     ]
    },
    {
     "data": {
      "image/png": "[encoded data removed]",
      "text/plain": [
       "<Figure size 288x288 with 1 Axes>"
      ]
     },
     "metadata": {
      "needs_background": "light"
     },
     "output_type": "display_data"
    }
   ],
   "source": [
    "print(train_images.shape)\n",
    "print(train_labels[5000])\n",
    "plt.matshow(train_images[5000], cmap = 'gray')\n",
    "plt.show()\n",
    "\n",
    "print(validation_images.shape)\n",
    "print(validation_labels[1000])\n",
    "plt.matshow(validation_images[1000], cmap = 'gray')\n",
    "plt.show()"
   ]
  },
  {
   "cell_type": "code",
   "execution_count": 4,
   "metadata": {},
   "outputs": [
    {
     "name": "stdout",
     "output_type": "stream",
     "text": [
      "Before:\n",
      "(5400,)\n",
      "4\n",
      "After:\n",
      "(5400, 6)\n",
      "[0. 0. 0. 0. 1. 0.]\n"
     ]
    }
   ],
   "source": [
    "train_images = train_images.reshape((5400, 50, 50, 1))\n",
    "train_images = train_images.astype('float32')/255\n",
    "\n",
    "validation_images = validation_images.reshape((1800, 50, 50, 1))\n",
    "validation_images = validation_images.astype('float32')/255\n",
    "\n",
    "\n",
    "print(\"Before:\")\n",
    "print(train_labels.shape)\n",
    "print(train_labels[4000])\n",
    "\n",
    "train_labels = to_categorical(train_labels)\n",
    "validation_labels = to_categorical(validation_labels)\n",
    "\n",
    "print(\"After:\")\n",
    "print(train_labels.shape)\n",
    "print(train_labels[4000])"
   ]
  },
  {
   "cell_type": "code",
   "execution_count": 16,
   "metadata": {},
   "outputs": [],
   "source": [
    "data_augmentation = Sequential()\n",
    "\n",
    "data_augmentation.add(experimental.preprocessing.RandomFlip(mode = \"horizontal\"))\n",
    "data_augmentation.add(experimental.preprocessing.RandomRotation(0.25))\n",
    "data_augmentation.add(experimental.preprocessing.RandomTranslation(0.2,0.2))\n",
    "\n",
    "model = Sequential()\n",
    "\n",
    "model.add(Input((50,50,1)))\n",
    "model.add(data_augmentation)\n",
    "\n",
    "model.add(Conv2D(filters = 6, kernel_size = 5, strides = 1, activation = 'relu'))\n",
    "model.add(MaxPooling2D(pool_size = 2, strides = 2))\n",
    "\n",
    "model.add(Conv2D(filters = 16, kernel_size = 5, strides = 1, activation = 'relu'))\n",
    "model.add(MaxPooling2D(pool_size = 2, strides = 2))\n",
    "\n",
    "model.add(Flatten())\n",
    "\n",
    "model.add(Dense(units = 256, activation = 'relu'))\n",
    "model.add(Dropout(0.2))\n",
    "model.add(Dense(units = 128, activation = 'relu'))\n",
    "model.add(Dropout(0.1))\n",
    "\n",
    "model.add(Dense(units = 6, activation = 'softmax'))\n",
    "model.compile(optimizer = 'adam', loss = 'categorical_crossentropy', metrics = ['accuracy'])\n"
   ]
  },
  {
   "cell_type": "code",
   "execution_count": 17,
   "metadata": {},
   "outputs": [
    {
     "name": "stdout",
     "output_type": "stream",
     "text": [
      "Model: \"sequential_5\"\n",
      "_________________________________________________________________\n",
      " Layer (type)                Output Shape              Param #   \n",
      "=================================================================\n",
      " sequential_4 (Sequential)   (None, 50, 50, 1)         0         \n",
      "                                                                 \n",
      " conv2d_4 (Conv2D)           (None, 46, 46, 6)         156       \n",
      "                                                                 \n",
      " max_pooling2d_4 (MaxPooling  (None, 23, 23, 6)        0         \n",
      " 2D)                                                             \n",
      "                                                                 \n",
      " conv2d_5 (Conv2D)           (None, 19, 19, 16)        2416      \n",
      "                                                                 \n",
      " max_pooling2d_5 (MaxPooling  (None, 9, 9, 16)         0         \n",
      " 2D)                                                             \n",
      "                                                                 \n",
      " flatten_2 (Flatten)         (None, 1296)              0         \n",
      "                                                                 \n",
      " dense_6 (Dense)             (None, 256)               332032    \n",
      "                                                                 \n",
      " dropout_4 (Dropout)         (None, 256)               0         \n",
      "                                                                 \n",
      " dense_7 (Dense)             (None, 128)               32896     \n",
      "                                                                 \n",
      " dropout_5 (Dropout)         (None, 128)               0         \n",
      "                                                                 \n",
      " dense_8 (Dense)             (None, 6)                 774       \n",
      "                                                                 \n",
      "=================================================================\n",
      "Total params: 368,274\n",
      "Trainable params: 368,274\n",
      "Non-trainable params: 0\n",
      "_________________________________________________________________\n",
      "None\n"
     ]
    }
   ],
   "source": [
    "print(model.summary())"
   ]
  },
  {
   "cell_type": "code",
   "execution_count": 18,
   "metadata": {},
   "outputs": [
    {
     "name": "stdout",
     "output_type": "stream",
     "text": [
      "Epoch 1/7\n",
      "216/216 [==============================] - 18s 69ms/step - loss: 0.9692 - accuracy: 0.5978 - val_loss: 0.1524 - val_accuracy: 0.9583\n",
      "Epoch 2/7\n",
      "216/216 [==============================] - 14s 66ms/step - loss: 0.3670 - accuracy: 0.8511 - val_loss: 0.0651 - val_accuracy: 0.9944\n",
      "Epoch 3/7\n",
      "216/216 [==============================] - 15s 68ms/step - loss: 0.2108 - accuracy: 0.9161 - val_loss: 0.0392 - val_accuracy: 0.9994\n",
      "Epoch 4/7\n",
      "216/216 [==============================] - 15s 68ms/step - loss: 0.1777 - accuracy: 0.9296 - val_loss: 0.0448 - val_accuracy: 0.9717\n",
      "Epoch 5/7\n",
      "216/216 [==============================] - 12s 57ms/step - loss: 0.1269 - accuracy: 0.9520 - val_loss: 0.0411 - val_accuracy: 0.9911\n",
      "Epoch 6/7\n",
      "216/216 [==============================] - 8s 36ms/step - loss: 0.1218 - accuracy: 0.9541 - val_loss: 0.0830 - val_accuracy: 0.9711\n",
      "Epoch 7/7\n",
      "216/216 [==============================] - 7s 34ms/step - loss: 0.1014 - accuracy: 0.9617 - val_loss: 0.0230 - val_accuracy: 1.0000\n"
     ]
    }
   ],
   "source": [
    "history = model.fit(train_images, train_labels, epochs = 7, batch_size = 25, validation_data = (validation_images, validation_labels))"
   ]
  },
  {
   "cell_type": "code",
   "execution_count": 19,
   "metadata": {},
   "outputs": [
    {
     "data": {
      "image/png": "[encoded data removed]",
      "text/plain": [
       "<Figure size 432x288 with 1 Axes>"
      ]
     },
     "metadata": {
      "needs_background": "light"
     },
     "output_type": "display_data"
    },
    {
     "data": {
      "image/png": "[encoded data removed]",
      "text/plain": [
       "<Figure size 432x288 with 1 Axes>"
      ]
     },
     "metadata": {
      "needs_background": "light"
     },
     "output_type": "display_data"
    }
   ],
   "source": [
    "acc = history.history['accuracy']\n",
    "loss = history.history['loss']\n",
    "val_acc = history.history['val_accuracy']\n",
    "val_loss = history.history['val_loss']\n",
    "\n",
    "epochs = range(1, len(acc) + 1)\n",
    "\n",
    "plt.plot(epochs, acc, 'b', label='Accuracy')\n",
    "plt.plot(epochs, loss, 'r', label='Loss')\n",
    "plt.title('Accuracy and Loss')\n",
    "plt.legend()\n",
    "\n",
    "plt.figure()\n",
    "plt.plot(epochs, val_acc, 'b', label='Validation Accuracy')\n",
    "plt.plot(epochs, val_loss, 'r', label='Validation Loss')\n",
    "plt.title('Validation Accuracy and Loss')\n",
    "plt.legend()\n",
    "\n",
    "plt.show()"
   ]
  },
  {
   "cell_type": "code",
   "execution_count": 20,
   "metadata": {},
   "outputs": [],
   "source": [
    "model.save('model.h5')"
   ]
  }
 ],
 "metadata": {
  "interpreter": {
   "hash": "b8dfcc4a6243885f100527393eda4351d2397a0a9d4c07ea3031d7aee9b8c635"
  },
  "kernelspec": {
   "display_name": "Python 3.9.9 64-bit",
   "language": "python",
   "name": "python3"
  },
  "language_info": {
   "codemirror_mode": {
    "name": "ipython",
    "version": 3
   },
   "file_extension": ".py",
   "mimetype": "text/x-python",
   "name": "python",
   "nbconvert_exporter": "python",
   "pygments_lexer": "ipython3",
   "version": "3.9.9"
  },
  "orig_nbformat": 4
 },
 "nbformat": 4,
 "nbformat_minor": 2
}
