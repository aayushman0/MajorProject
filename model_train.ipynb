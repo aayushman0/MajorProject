{
 "cells": [
  {
   "cell_type": "code",
   "execution_count": 1,
   "metadata": {},
   "outputs": [],
   "source": [
    "import os\n",
    "import numpy as np\n",
    "\n",
    "from keras.models import Sequential\n",
    "from keras.layers import *\n",
    "\n",
    "from tensorflow.keras.utils import to_categorical\n",
    "from tensorflow.keras.preprocessing.image import load_img\n",
    "import matplotlib.pyplot as plt"
   ]
  },
  {
   "cell_type": "code",
   "execution_count": 2,
   "metadata": {},
   "outputs": [],
   "source": [
    "images = [[],[]]\n",
    "labels = [[],[]]\n",
    "i = 0\n",
    "for folder_name in ['train', 'valid']:\n",
    "    folder_path = os.path.join('dataset', folder_name)\n",
    "    for dataset_name in os.listdir(folder_path):\n",
    "        dataset_path = os.path.join(folder_path, dataset_name)\n",
    "        for file_name in os.listdir(dataset_path):\n",
    "            file_path = os.path.join(dataset_path, file_name)\n",
    "            img = load_img(file_path, color_mode='grayscale')\n",
    "            images[i].append(np.array(img))\n",
    "            labels[i].append(int(dataset_name))\n",
    "    \n",
    "    i += 1\n",
    "    \n",
    "train_images = np.array(images[0])\n",
    "train_labels = np.array(labels[0])\n",
    "validation_images = np.array(images[1])\n",
    "validation_labels = np.array(labels[1])\n",
    "\n"
   ]
  },
  {
   "cell_type": "code",
   "execution_count": 3,
   "metadata": {},
   "outputs": [
    {
     "name": "stdout",
     "output_type": "stream",
     "text": [
      "(5400, 50, 50)\n",
      "5\n"
     ]
    },
    {
     "data": {
      "image/png": "[encoded data removed]",
      "text/plain": [
       "<Figure size 288x288 with 1 Axes>"
      ]
     },
     "metadata": {
      "needs_background": "light"
     },
     "output_type": "display_data"
    },
    {
     "name": "stdout",
     "output_type": "stream",
     "text": [
      "(1800, 50, 50)\n",
      "3\n"
     ]
    },
    {
     "data": {
      "image/png": "[encoded data removed]",
      "text/plain": [
       "<Figure size 288x288 with 1 Axes>"
      ]
     },
     "metadata": {
      "needs_background": "light"
     },
     "output_type": "display_data"
    }
   ],
   "source": [
    "print(train_images.shape)\n",
    "print(train_labels[5000])\n",
    "plt.matshow(train_images[5000], cmap = 'gray')\n",
    "plt.show()\n",
    "\n",
    "print(validation_images.shape)\n",
    "print(validation_labels[1000])\n",
    "plt.matshow(validation_images[1000], cmap = 'gray')\n",
    "plt.show()"
   ]
  },
  {
   "cell_type": "code",
   "execution_count": 4,
   "metadata": {},
   "outputs": [
    {
     "name": "stdout",
     "output_type": "stream",
     "text": [
      "Before:\n",
      "(5400,)\n",
      "4\n",
      "After:\n",
      "(5400, 6)\n",
      "[0. 0. 0. 0. 1. 0.]\n"
     ]
    }
   ],
   "source": [
    "train_images = train_images.reshape((5400, 50, 50, 1))\n",
    "train_images = train_images.astype('float32')/255\n",
    "\n",
    "validation_images = validation_images.reshape((1800, 50, 50, 1))\n",
    "validation_images = validation_images.astype('float32')/255\n",
    "\n",
    "\n",
    "print(\"Before:\")\n",
    "print(train_labels.shape)\n",
    "print(train_labels[4000])\n",
    "\n",
    "train_labels = to_categorical(train_labels)\n",
    "validation_labels = to_categorical(validation_labels)\n",
    "\n",
    "print(\"After:\")\n",
    "print(train_labels.shape)\n",
    "print(train_labels[4000])"
   ]
  },
  {
   "cell_type": "code",
   "execution_count": 14,
   "metadata": {},
   "outputs": [],
   "source": [
    "model = Sequential()\n",
    "\n",
    "model.add(Conv2D(filters = 6, kernel_size = 5, strides = 1, activation = 'relu', input_shape = (50,50,1)))\n",
    "model.add(MaxPooling2D(pool_size = 2, strides = 2))\n",
    "\n",
    "model.add(Conv2D(filters = 10, kernel_size = 5, strides = 1, activation = 'relu', input_shape = (25,25,5)))\n",
    "model.add(MaxPooling2D(pool_size = 2, strides = 2))\n",
    "\n",
    "model.add(Flatten())\n",
    "\n",
    "model.add(Dense(units = 400, activation = 'relu'))\n",
    "model.add(Dense(units = 128, activation = 'relu'))\n",
    "\n",
    "model.add(Dense(units = 6, activation = 'softmax'))\n",
    "model.compile(optimizer = 'adam', loss = 'categorical_crossentropy', metrics = ['accuracy'])\n"
   ]
  },
  {
   "cell_type": "code",
   "execution_count": 15,
   "metadata": {},
   "outputs": [
    {
     "name": "stdout",
     "output_type": "stream",
     "text": [
      "Model: \"sequential_4\"\n",
      "_________________________________________________________________\n",
      " Layer (type)                Output Shape              Param #   \n",
      "=================================================================\n",
      " conv2d_8 (Conv2D)           (None, 46, 46, 6)         156       \n",
      "                                                                 \n",
      " max_pooling2d_8 (MaxPooling  (None, 23, 23, 6)        0         \n",
      " 2D)                                                             \n",
      "                                                                 \n",
      " conv2d_9 (Conv2D)           (None, 19, 19, 10)        1510      \n",
      "                                                                 \n",
      " max_pooling2d_9 (MaxPooling  (None, 9, 9, 10)         0         \n",
      " 2D)                                                             \n",
      "                                                                 \n",
      " flatten_4 (Flatten)         (None, 810)               0         \n",
      "                                                                 \n",
      " dense_12 (Dense)            (None, 400)               324400    \n",
      "                                                                 \n",
      " dense_13 (Dense)            (None, 128)               51328     \n",
      "                                                                 \n",
      " dense_14 (Dense)            (None, 6)                 774       \n",
      "                                                                 \n",
      "=================================================================\n",
      "Total params: 378,168\n",
      "Trainable params: 378,168\n",
      "Non-trainable params: 0\n",
      "_________________________________________________________________\n",
      "None\n"
     ]
    }
   ],
   "source": [
    "print(model.summary())"
   ]
  },
  {
   "cell_type": "code",
   "execution_count": 16,
   "metadata": {},
   "outputs": [
    {
     "name": "stdout",
     "output_type": "stream",
     "text": [
      "Epoch 1/5\n",
      "540/540 [==============================] - 7s 12ms/step - loss: 0.0322 - accuracy: 0.9915 - val_loss: 1.8781e-05 - val_accuracy: 1.0000\n",
      "Epoch 2/5\n",
      "540/540 [==============================] - 9s 17ms/step - loss: 6.6998e-06 - accuracy: 1.0000 - val_loss: 1.1690e-05 - val_accuracy: 1.0000\n",
      "Epoch 3/5\n",
      "540/540 [==============================] - 9s 17ms/step - loss: 2.8057e-06 - accuracy: 1.0000 - val_loss: 7.7455e-06 - val_accuracy: 1.0000\n",
      "Epoch 4/5\n",
      "540/540 [==============================] - 9s 17ms/step - loss: 1.3738e-06 - accuracy: 1.0000 - val_loss: 5.0844e-06 - val_accuracy: 1.0000\n",
      "Epoch 5/5\n",
      "540/540 [==============================] - 9s 16ms/step - loss: 7.8060e-07 - accuracy: 1.0000 - val_loss: 3.6845e-06 - val_accuracy: 1.0000\n"
     ]
    },
    {
     "data": {
      "text/plain": [
       "<keras.callbacks.History at 0x1e266038610>"
      ]
     },
     "execution_count": 16,
     "metadata": {},
     "output_type": "execute_result"
    }
   ],
   "source": [
    "model.fit(train_images, train_labels, epochs = 5, batch_size = 10, validation_data = (validation_images, validation_labels))"
   ]
  },
  {
   "cell_type": "code",
   "execution_count": 17,
   "metadata": {},
   "outputs": [],
   "source": [
    "model.save('model.h5')"
   ]
  }
 ],
 "metadata": {
  "interpreter": {
   "hash": "b8dfcc4a6243885f100527393eda4351d2397a0a9d4c07ea3031d7aee9b8c635"
  },
  "kernelspec": {
   "display_name": "Python 3.9.9 64-bit",
   "language": "python",
   "name": "python3"
  },
  "language_info": {
   "codemirror_mode": {
    "name": "ipython",
    "version": 3
   },
   "file_extension": ".py",
   "mimetype": "text/x-python",
   "name": "python",
   "nbconvert_exporter": "python",
   "pygments_lexer": "ipython3",
   "version": "3.9.9"
  },
  "orig_nbformat": 4
 },
 "nbformat": 4,
 "nbformat_minor": 2
}
